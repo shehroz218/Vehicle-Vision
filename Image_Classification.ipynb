{
 "cells": [
  {
   "cell_type": "code",
   "execution_count": 10,
   "metadata": {},
   "outputs": [
    {
     "data": {
      "text/plain": [
       "[PhysicalDevice(name='/physical_device:GPU:0', device_type='GPU')]"
      ]
     },
     "execution_count": 10,
     "metadata": {},
     "output_type": "execute_result"
    }
   ],
   "source": [
    "import pandas as pd\n",
    "import numpy as np\n",
    "import math\n",
    "import scipy\n",
    "import matplotlib.pyplot as plt\n",
    "import matplotlib.image as mpimg\n",
    "import PIL\n",
    "from PIL import Image\n",
    "\n",
    "#Importing tensorflow modules\n",
    "import tensorflow as tf\n",
    "from tensorflow.keras.preprocessing.image import ImageDataGenerator\n",
    "from tensorflow.keras.models import Model\n",
    "from tensorflow.keras.layers import Input, Flatten, Dense, Dropout, GlobalAveragePooling2D\n",
    "from tensorflow.keras.applications import EfficientNetB5, EfficientNetB3,EfficientNetB1, EfficientNetB0\n",
    "from tensorflow.keras.applications.efficientnet import preprocess_input\n",
    "from tensorflow.keras.preprocessing import image\n",
    "tf.config.list_physical_devices(\"GPU\")"
   ]
  },
  {
   "cell_type": "markdown",
   "metadata": {},
   "source": [
    "For this I will be looking at the efficient Net models and comparing their performances"
   ]
  },
  {
   "cell_type": "markdown",
   "metadata": {},
   "source": [
    "+ Let's start by creating important variables that we will use to create our train and validation generators"
   ]
  },
  {
   "cell_type": "code",
   "execution_count": 2,
   "metadata": {},
   "outputs": [],
   "source": [
    "TRAIN_DATA_DIR=\"D:\\Codes\\Image-Classification\\cardataset/train\"\n",
    "VALIDATION_DATA_DIR=\"D:\\Codes\\Image-Classification\\cardataset/val\"\n",
    "TRAIN_SAMPLES = 500\n",
    "VALIDATION_SAMPLES = 500\n",
    "NUM_CLASSES = 17\n",
    "IMG_WIDTH, IMG_HEIGHT = 224, 224\n",
    "BATCH_SIZE = 64"
   ]
  },
  {
   "cell_type": "markdown",
   "metadata": {},
   "source": [
    "+ Generators are great ways to augment data and make the process very easy without using any local storage space.\n"
   ]
  },
  {
   "cell_type": "code",
   "execution_count": 3,
   "metadata": {},
   "outputs": [],
   "source": [
    "train_datagen = ImageDataGenerator(preprocessing_function=preprocess_input,\n",
    "                                   rotation_range=20,\n",
    "                                   width_shift_range=0.2,\n",
    "                                   height_shift_range=0.2,\n",
    "                                   zoom_range=0.2)\n",
    "val_datagen = ImageDataGenerator(preprocessing_function=preprocess_input)"
   ]
  },
  {
   "cell_type": "markdown",
   "metadata": {},
   "source": [
    "+ Make the image fit the model input size so we don't have to do it one by one\n",
    "+ Let's see the number of classes we have and the total number of images to get an idea of the dataset"
   ]
  },
  {
   "cell_type": "code",
   "execution_count": 4,
   "metadata": {},
   "outputs": [
    {
     "name": "stdout",
     "output_type": "stream",
     "text": [
      "Found 22852 images belonging to 17 classes.\n",
      "Found 5193 images belonging to 17 classes.\n"
     ]
    }
   ],
   "source": [
    "train_generator = train_datagen.flow_from_directory(TRAIN_DATA_DIR,\n",
    "                                                    target_size=(IMG_WIDTH,\n",
    "                                                                 IMG_HEIGHT),\n",
    "                                                    batch_size=BATCH_SIZE,\n",
    "                                                    shuffle=True,\n",
    "                                                    seed=12345,\n",
    "                                                    class_mode='categorical')\n",
    "validation_generator = val_datagen.flow_from_directory(\n",
    "    VALIDATION_DATA_DIR,\n",
    "    target_size=(IMG_WIDTH, IMG_HEIGHT),\n",
    "    batch_size=BATCH_SIZE,\n",
    "    shuffle=False,\n",
    "    class_mode='categorical')"
   ]
  },
  {
   "cell_type": "code",
   "execution_count": 5,
   "metadata": {},
   "outputs": [
    {
     "data": {
      "text/plain": [
       "['Ambulance',\n",
       " 'Barge',\n",
       " 'Bicycle',\n",
       " 'Boat',\n",
       " 'Bus',\n",
       " 'Car',\n",
       " 'Cart',\n",
       " 'Caterpillar',\n",
       " 'Helicopter',\n",
       " 'Limousine',\n",
       " 'Motorcycle',\n",
       " 'Segway',\n",
       " 'Snowmobile',\n",
       " 'Tank',\n",
       " 'Taxi',\n",
       " 'Truck',\n",
       " 'Van']"
      ]
     },
     "execution_count": 5,
     "metadata": {},
     "output_type": "execute_result"
    }
   ],
   "source": [
    "class_names=list((validation_generator.class_indices).keys())\n",
    "class_names"
   ]
  },
  {
   "cell_type": "markdown",
   "metadata": {},
   "source": [
    "##### Create Model -> EfficientNet B5\n",
    "+ In this we are using transfer learning techniques and so we first unfreeze the top layers and fine tune them according to our needs.\n",
    "+ "
   ]
  },
  {
   "cell_type": "code",
   "execution_count": 6,
   "metadata": {},
   "outputs": [
    {
     "name": "stdout",
     "output_type": "stream",
     "text": [
      "Model: \"model\"\n",
      "_________________________________________________________________\n",
      " Layer (type)                Output Shape              Param #   \n",
      "=================================================================\n",
      " input_2 (InputLayer)        [(None, 224, 224, 3)]     0         \n",
      "                                                                 \n",
      " efficientnetb5 (Functional)  (None, 7, 7, 2048)       28513527  \n",
      "                                                                 \n",
      " global_average_pooling2d (G  (None, 2048)             0         \n",
      " lobalAveragePooling2D)                                          \n",
      "                                                                 \n",
      " dense (Dense)               (None, 64)                131136    \n",
      "                                                                 \n",
      " dropout (Dropout)           (None, 64)                0         \n",
      "                                                                 \n",
      " dense_1 (Dense)             (None, 17)                1105      \n",
      "                                                                 \n",
      "=================================================================\n",
      "Total params: 28,645,768\n",
      "Trainable params: 132,241\n",
      "Non-trainable params: 28,513,527\n",
      "_________________________________________________________________\n"
     ]
    }
   ],
   "source": [
    "def model_maker(model=EfficientNetB5):\n",
    "    base_model = model(include_top=False,\n",
    "                           input_shape=(IMG_WIDTH, IMG_HEIGHT, 3))\n",
    "    for layer in base_model.layers[:]:\n",
    "        layer.trainable = False\n",
    "    input = Input(shape=(IMG_WIDTH, IMG_HEIGHT, 3))\n",
    "    custom_model = base_model(input)\n",
    "    custom_model = GlobalAveragePooling2D()(custom_model)\n",
    "    custom_model = Dense(64, activation='relu')(custom_model)\n",
    "    custom_model = Dropout(0.5)(custom_model)\n",
    "    predictions = Dense(NUM_CLASSES, activation='softmax')(custom_model)\n",
    "    return Model(inputs=input, outputs=predictions)\n",
    "model_b5 = model_maker(model=EfficientNetB5)\n",
    "model_b5.summary()"
   ]
  },
  {
   "cell_type": "code",
   "execution_count": 9,
   "metadata": {},
   "outputs": [
    {
     "name": "stdout",
     "output_type": "stream",
     "text": [
      "Epoch 1/20\n",
      "18/18 [==============================] - 34s 2s/step - loss: 1.8369 - acc: 0.5425 - val_loss: 1.0493 - val_acc: 0.7773\n",
      "Epoch 2/20\n",
      "18/18 [==============================] - 27s 1s/step - loss: 0.8907 - acc: 0.7865 - val_loss: 0.9503 - val_acc: 0.7832\n",
      "Epoch 3/20\n",
      "18/18 [==============================] - 24s 1s/step - loss: 0.7853 - acc: 0.7986 - val_loss: 0.8911 - val_acc: 0.7832\n",
      "Epoch 4/20\n",
      "18/18 [==============================] - 24s 1s/step - loss: 0.7280 - acc: 0.8229 - val_loss: 0.8325 - val_acc: 0.7832\n",
      "Epoch 5/20\n",
      "18/18 [==============================] - 26s 1s/step - loss: 0.6152 - acc: 0.8333 - val_loss: 0.8086 - val_acc: 0.7891\n",
      "Epoch 6/20\n",
      "18/18 [==============================] - 24s 1s/step - loss: 0.5937 - acc: 0.8481 - val_loss: 0.7960 - val_acc: 0.7910\n",
      "Epoch 7/20\n",
      "18/18 [==============================] - 29s 2s/step - loss: 0.5892 - acc: 0.8490 - val_loss: 0.7240 - val_acc: 0.7988\n",
      "Epoch 8/20\n",
      "18/18 [==============================] - 27s 2s/step - loss: 0.6456 - acc: 0.8333 - val_loss: 0.6739 - val_acc: 0.7812\n",
      "Epoch 9/20\n",
      "18/18 [==============================] - 26s 1s/step - loss: 0.5787 - acc: 0.8394 - val_loss: 0.6660 - val_acc: 0.7852\n",
      "Epoch 10/20\n",
      "18/18 [==============================] - 27s 1s/step - loss: 0.5283 - acc: 0.8394 - val_loss: 0.7042 - val_acc: 0.7832\n",
      "Epoch 11/20\n",
      "18/18 [==============================] - 27s 2s/step - loss: 0.6135 - acc: 0.8264 - val_loss: 0.6694 - val_acc: 0.7812\n",
      "Epoch 12/20\n",
      "18/18 [==============================] - 26s 1s/step - loss: 0.5524 - acc: 0.8507 - val_loss: 0.6899 - val_acc: 0.7852\n",
      "Epoch 13/20\n",
      "18/18 [==============================] - 27s 2s/step - loss: 0.5759 - acc: 0.8316 - val_loss: 0.6973 - val_acc: 0.7832\n",
      "Epoch 14/20\n",
      "18/18 [==============================] - 27s 1s/step - loss: 0.5387 - acc: 0.8385 - val_loss: 0.7168 - val_acc: 0.7793\n",
      "Epoch 15/20\n",
      "18/18 [==============================] - 33s 2s/step - loss: 0.5541 - acc: 0.8359 - val_loss: 0.6704 - val_acc: 0.7773\n",
      "Epoch 16/20\n",
      "18/18 [==============================] - 29s 2s/step - loss: 0.5481 - acc: 0.8516 - val_loss: 0.6375 - val_acc: 0.7852\n",
      "Epoch 17/20\n",
      "18/18 [==============================] - 28s 2s/step - loss: 0.5303 - acc: 0.8490 - val_loss: 0.6437 - val_acc: 0.7871\n",
      "Epoch 18/20\n",
      "18/18 [==============================] - 27s 1s/step - loss: 0.5193 - acc: 0.8516 - val_loss: 0.6390 - val_acc: 0.7891\n",
      "Epoch 19/20\n",
      "18/18 [==============================] - 27s 2s/step - loss: 0.4604 - acc: 0.8646 - val_loss: 0.6044 - val_acc: 0.7949\n",
      "Epoch 20/20\n",
      "18/18 [==============================] - 29s 2s/step - loss: 0.4997 - acc: 0.8628 - val_loss: 0.5938 - val_acc: 0.8047\n"
     ]
    }
   ],
   "source": [
    "model_b5.compile(loss='categorical_crossentropy',\n",
    "              optimizer=tf.keras.optimizers.Adam(),\n",
    "              metrics=['acc'])\n",
    "hist_b5=model_b5.fit(\n",
    "    train_generator,\n",
    "    steps_per_epoch=math.ceil(18),\n",
    "    epochs=20,\n",
    "    validation_data=validation_generator,\n",
    "    validation_steps=math.ceil(float(VALIDATION_SAMPLES) / BATCH_SIZE))"
   ]
  },
  {
   "cell_type": "code",
   "execution_count": 11,
   "metadata": {},
   "outputs": [
    {
     "name": "stderr",
     "output_type": "stream",
     "text": [
      "C:\\Users\\shzso\\anaconda3\\envs\\tf_gpu\\lib\\site-packages\\keras\\engine\\functional.py:1410: CustomMaskWarning: Custom mask layers require a config and must override get_config. When loading, the custom mask layer must be passed to the custom_objects argument.\n",
      "  layer_config = serialize_layer_fn(layer)\n"
     ]
    }
   ],
   "source": [
    "hist_df_B5 = pd.DataFrame(hist_b5.history)\n",
    "model_b5.save('model_EfficientNetB5.h5')"
   ]
  },
  {
   "cell_type": "markdown",
   "metadata": {},
   "source": [
    "#### Creating Model Efficientnet B3"
   ]
  },
  {
   "cell_type": "code",
   "execution_count": 14,
   "metadata": {},
   "outputs": [
    {
     "name": "stdout",
     "output_type": "stream",
     "text": [
      "Model: \"model_3\"\n",
      "_________________________________________________________________\n",
      " Layer (type)                Output Shape              Param #   \n",
      "=================================================================\n",
      " input_8 (InputLayer)        [(None, 224, 224, 3)]     0         \n",
      "                                                                 \n",
      " efficientnetb3 (Functional)  (None, 7, 7, 1536)       10783535  \n",
      "                                                                 \n",
      " global_average_pooling2d_3   (None, 1536)             0         \n",
      " (GlobalAveragePooling2D)                                        \n",
      "                                                                 \n",
      " dense_6 (Dense)             (None, 64)                98368     \n",
      "                                                                 \n",
      " dropout_3 (Dropout)         (None, 64)                0         \n",
      "                                                                 \n",
      " dense_7 (Dense)             (None, 17)                1105      \n",
      "                                                                 \n",
      "=================================================================\n",
      "Total params: 10,883,008\n",
      "Trainable params: 99,473\n",
      "Non-trainable params: 10,783,535\n",
      "_________________________________________________________________\n"
     ]
    }
   ],
   "source": [
    "model_b3 = model_maker(model=EfficientNetB3)\n",
    "model_b3.summary()"
   ]
  },
  {
   "cell_type": "code",
   "execution_count": 15,
   "metadata": {},
   "outputs": [
    {
     "name": "stdout",
     "output_type": "stream",
     "text": [
      "Epoch 1/20\n",
      "18/18 [==============================] - 31s 1s/step - loss: 1.8752 - acc: 0.4939 - val_loss: 1.2756 - val_acc: 0.7324\n",
      "Epoch 2/20\n",
      "18/18 [==============================] - 24s 1s/step - loss: 1.0599 - acc: 0.7405 - val_loss: 1.1131 - val_acc: 0.7539\n",
      "Epoch 3/20\n",
      "18/18 [==============================] - 32s 2s/step - loss: 0.8609 - acc: 0.7778 - val_loss: 1.0464 - val_acc: 0.7598\n",
      "Epoch 4/20\n",
      "18/18 [==============================] - 32s 2s/step - loss: 0.7634 - acc: 0.7995 - val_loss: 0.9127 - val_acc: 0.7734\n",
      "Epoch 5/20\n",
      "18/18 [==============================] - 32s 2s/step - loss: 0.7377 - acc: 0.8047 - val_loss: 0.8690 - val_acc: 0.7617\n",
      "Epoch 6/20\n",
      "18/18 [==============================] - 34s 2s/step - loss: 0.6500 - acc: 0.8168 - val_loss: 0.8702 - val_acc: 0.7656\n",
      "Epoch 7/20\n",
      "18/18 [==============================] - 26s 1s/step - loss: 0.6890 - acc: 0.8038 - val_loss: 0.8910 - val_acc: 0.7676\n",
      "Epoch 8/20\n",
      "18/18 [==============================] - 27s 1s/step - loss: 0.5613 - acc: 0.8420 - val_loss: 0.8766 - val_acc: 0.7656\n",
      "Epoch 9/20\n",
      "18/18 [==============================] - 27s 2s/step - loss: 0.6324 - acc: 0.8203 - val_loss: 0.8299 - val_acc: 0.7773\n",
      "Epoch 10/20\n",
      "18/18 [==============================] - 27s 2s/step - loss: 0.6228 - acc: 0.8160 - val_loss: 0.8719 - val_acc: 0.7656\n",
      "Epoch 11/20\n",
      "18/18 [==============================] - 26s 1s/step - loss: 0.5723 - acc: 0.8472 - val_loss: 0.8624 - val_acc: 0.7773\n",
      "Epoch 12/20\n",
      "18/18 [==============================] - 25s 1s/step - loss: 0.5480 - acc: 0.8455 - val_loss: 0.8296 - val_acc: 0.7793\n",
      "Epoch 13/20\n",
      "18/18 [==============================] - 22s 1s/step - loss: 0.5316 - acc: 0.8498 - val_loss: 0.8195 - val_acc: 0.7695\n",
      "Epoch 14/20\n",
      "18/18 [==============================] - 21s 1s/step - loss: 0.5246 - acc: 0.8498 - val_loss: 0.7657 - val_acc: 0.7754\n",
      "Epoch 15/20\n",
      "18/18 [==============================] - 22s 1s/step - loss: 0.5976 - acc: 0.8220 - val_loss: 0.7225 - val_acc: 0.7852\n",
      "Epoch 16/20\n",
      "18/18 [==============================] - 27s 1s/step - loss: 0.6048 - acc: 0.8220 - val_loss: 0.6567 - val_acc: 0.7871\n",
      "Epoch 17/20\n",
      "18/18 [==============================] - 25s 1s/step - loss: 0.5344 - acc: 0.8394 - val_loss: 0.6654 - val_acc: 0.7891\n",
      "Epoch 18/20\n",
      "18/18 [==============================] - 23s 1s/step - loss: 0.5191 - acc: 0.8524 - val_loss: 0.6460 - val_acc: 0.8008\n",
      "Epoch 19/20\n",
      "18/18 [==============================] - 26s 1s/step - loss: 0.5671 - acc: 0.8368 - val_loss: 0.6503 - val_acc: 0.8066\n",
      "Epoch 20/20\n",
      "18/18 [==============================] - 23s 1s/step - loss: 0.4761 - acc: 0.8681 - val_loss: 0.6175 - val_acc: 0.8242\n"
     ]
    }
   ],
   "source": [
    "\n",
    "model_b3.compile(loss='categorical_crossentropy',\n",
    "              optimizer=tf.keras.optimizers.Adam(),\n",
    "              metrics=['acc'])\n",
    "hist_b3=model_b3.fit(\n",
    "    train_generator,\n",
    "    steps_per_epoch=math.ceil(18),\n",
    "    epochs=20,\n",
    "    validation_data=validation_generator,\n",
    "    validation_steps=math.ceil(float(VALIDATION_SAMPLES) / BATCH_SIZE))"
   ]
  },
  {
   "cell_type": "code",
   "execution_count": 16,
   "metadata": {},
   "outputs": [],
   "source": [
    "hist_df_B3 = pd.DataFrame(hist_b3.history) \n",
    "model_b3.save('model_EfficientNetB3.h5')"
   ]
  },
  {
   "cell_type": "markdown",
   "metadata": {},
   "source": [
    "### Efficient net B0"
   ]
  },
  {
   "cell_type": "code",
   "execution_count": 7,
   "metadata": {},
   "outputs": [
    {
     "name": "stdout",
     "output_type": "stream",
     "text": [
      "Model: \"model_1\"\n",
      "_________________________________________________________________\n",
      " Layer (type)                Output Shape              Param #   \n",
      "=================================================================\n",
      " input_4 (InputLayer)        [(None, 224, 224, 3)]     0         \n",
      "                                                                 \n",
      " efficientnetb0 (Functional)  (None, 7, 7, 1280)       4049571   \n",
      "                                                                 \n",
      " global_average_pooling2d_1   (None, 1280)             0         \n",
      " (GlobalAveragePooling2D)                                        \n",
      "                                                                 \n",
      " dense_2 (Dense)             (None, 64)                81984     \n",
      "                                                                 \n",
      " dropout_1 (Dropout)         (None, 64)                0         \n",
      "                                                                 \n",
      " dense_3 (Dense)             (None, 17)                1105      \n",
      "                                                                 \n",
      "=================================================================\n",
      "Total params: 4,132,660\n",
      "Trainable params: 83,089\n",
      "Non-trainable params: 4,049,571\n",
      "_________________________________________________________________\n"
     ]
    }
   ],
   "source": [
    "model_b0 = model_maker(model=EfficientNetB0)\n",
    "model_b0.summary()"
   ]
  },
  {
   "cell_type": "code",
   "execution_count": 8,
   "metadata": {},
   "outputs": [
    {
     "name": "stdout",
     "output_type": "stream",
     "text": [
      "Epoch 1/20\n",
      "18/18 [==============================] - 37s 1s/step - loss: 2.0290 - acc: 0.4496 - val_loss: 1.5134 - val_acc: 0.7148\n",
      "Epoch 2/20\n",
      "18/18 [==============================] - 22s 1s/step - loss: 1.2388 - acc: 0.6960 - val_loss: 1.2590 - val_acc: 0.7559\n",
      "Epoch 3/20\n",
      "18/18 [==============================] - 23s 1s/step - loss: 1.0195 - acc: 0.7292 - val_loss: 1.1925 - val_acc: 0.7422\n",
      "Epoch 4/20\n",
      "18/18 [==============================] - 22s 1s/step - loss: 0.9389 - acc: 0.7344 - val_loss: 1.1433 - val_acc: 0.7402\n",
      "Epoch 5/20\n",
      "18/18 [==============================] - 22s 1s/step - loss: 0.8619 - acc: 0.7448 - val_loss: 1.1024 - val_acc: 0.7305\n",
      "Epoch 6/20\n",
      "18/18 [==============================] - 22s 1s/step - loss: 0.7974 - acc: 0.7847 - val_loss: 1.0865 - val_acc: 0.7480\n",
      "Epoch 7/20\n",
      "18/18 [==============================] - 22s 1s/step - loss: 0.6908 - acc: 0.7986 - val_loss: 1.0569 - val_acc: 0.7617\n",
      "Epoch 8/20\n",
      "18/18 [==============================] - 22s 1s/step - loss: 0.7617 - acc: 0.7786 - val_loss: 1.0424 - val_acc: 0.7305\n",
      "Epoch 9/20\n",
      "18/18 [==============================] - 22s 1s/step - loss: 0.7589 - acc: 0.7812 - val_loss: 0.9510 - val_acc: 0.7559\n",
      "Epoch 10/20\n",
      "18/18 [==============================] - 21s 1s/step - loss: 0.7038 - acc: 0.8012 - val_loss: 0.9280 - val_acc: 0.7617\n",
      "Epoch 11/20\n",
      "18/18 [==============================] - 21s 1s/step - loss: 0.6518 - acc: 0.8142 - val_loss: 0.9144 - val_acc: 0.7539\n",
      "Epoch 12/20\n",
      "18/18 [==============================] - 21s 1s/step - loss: 0.6228 - acc: 0.8160 - val_loss: 0.9313 - val_acc: 0.7559\n",
      "Epoch 13/20\n",
      "18/18 [==============================] - 21s 1s/step - loss: 0.6401 - acc: 0.8116 - val_loss: 0.9336 - val_acc: 0.7461\n",
      "Epoch 14/20\n",
      "18/18 [==============================] - 20s 1s/step - loss: 0.6655 - acc: 0.7934 - val_loss: 0.8369 - val_acc: 0.7461\n",
      "Epoch 15/20\n",
      "18/18 [==============================] - 21s 1s/step - loss: 0.6442 - acc: 0.7943 - val_loss: 0.8036 - val_acc: 0.7539\n",
      "Epoch 16/20\n",
      "18/18 [==============================] - 22s 1s/step - loss: 0.6019 - acc: 0.8255 - val_loss: 0.8273 - val_acc: 0.7402\n",
      "Epoch 17/20\n",
      "18/18 [==============================] - 22s 1s/step - loss: 0.5502 - acc: 0.8342 - val_loss: 0.7874 - val_acc: 0.7637\n",
      "Epoch 18/20\n",
      "18/18 [==============================] - 21s 1s/step - loss: 0.5914 - acc: 0.8385 - val_loss: 0.7780 - val_acc: 0.7559\n",
      "Epoch 19/20\n",
      "18/18 [==============================] - 20s 1s/step - loss: 0.6082 - acc: 0.8229 - val_loss: 0.8250 - val_acc: 0.7578\n",
      "Epoch 20/20\n",
      "18/18 [==============================] - 19s 1s/step - loss: 0.6068 - acc: 0.8178 - val_loss: 0.7847 - val_acc: 0.7637\n"
     ]
    }
   ],
   "source": [
    "\n",
    "model_b0.compile(loss='categorical_crossentropy',\n",
    "              optimizer=tf.keras.optimizers.Adam(),\n",
    "              metrics=['acc'])\n",
    "hist_b0=model_b0.fit(\n",
    "    train_generator,\n",
    "    steps_per_epoch=math.ceil(18),\n",
    "    epochs=20,\n",
    "    validation_data=validation_generator,\n",
    "    validation_steps=math.ceil(float(VALIDATION_SAMPLES) / BATCH_SIZE))"
   ]
  },
  {
   "cell_type": "code",
   "execution_count": 9,
   "metadata": {},
   "outputs": [
    {
     "name": "stderr",
     "output_type": "stream",
     "text": [
      "C:\\Users\\shzso\\anaconda3\\envs\\tf_gpu\\lib\\site-packages\\keras\\engine\\functional.py:1410: CustomMaskWarning: Custom mask layers require a config and must override get_config. When loading, the custom mask layer must be passed to the custom_objects argument.\n",
      "  layer_config = serialize_layer_fn(layer)\n"
     ]
    }
   ],
   "source": [
    "hist_df_B0 = pd.DataFrame(hist_b0.history) \n",
    "model_b0.save('model_EfficientNetB0.h5')"
   ]
  },
  {
   "cell_type": "markdown",
   "metadata": {},
   "source": [
    "##### Model Efficient Net B1"
   ]
  },
  {
   "cell_type": "code",
   "execution_count": 11,
   "metadata": {},
   "outputs": [
    {
     "name": "stdout",
     "output_type": "stream",
     "text": [
      "Downloading data from https://storage.googleapis.com/keras-applications/efficientnetb1_notop.h5\n",
      "27025408/27018416 [==============================] - 1s 0us/step\n",
      "27033600/27018416 [==============================] - 1s 0us/step\n",
      "Model: \"model_2\"\n",
      "_________________________________________________________________\n",
      " Layer (type)                Output Shape              Param #   \n",
      "=================================================================\n",
      " input_6 (InputLayer)        [(None, 224, 224, 3)]     0         \n",
      "                                                                 \n",
      " efficientnetb1 (Functional)  (None, 7, 7, 1280)       6575239   \n",
      "                                                                 \n",
      " global_average_pooling2d_2   (None, 1280)             0         \n",
      " (GlobalAveragePooling2D)                                        \n",
      "                                                                 \n",
      " dense_4 (Dense)             (None, 64)                81984     \n",
      "                                                                 \n",
      " dropout_2 (Dropout)         (None, 64)                0         \n",
      "                                                                 \n",
      " dense_5 (Dense)             (None, 17)                1105      \n",
      "                                                                 \n",
      "=================================================================\n",
      "Total params: 6,658,328\n",
      "Trainable params: 83,089\n",
      "Non-trainable params: 6,575,239\n",
      "_________________________________________________________________\n"
     ]
    }
   ],
   "source": [
    "model_b1 = model_maker(model=EfficientNetB1)\n",
    "model_b1.summary()"
   ]
  },
  {
   "cell_type": "code",
   "execution_count": 12,
   "metadata": {},
   "outputs": [
    {
     "name": "stdout",
     "output_type": "stream",
     "text": [
      "Epoch 1/20\n",
      "18/18 [==============================] - 25s 1s/step - loss: 1.9134 - acc: 0.4809 - val_loss: 1.4792 - val_acc: 0.6719\n",
      "Epoch 2/20\n",
      "18/18 [==============================] - 19s 1s/step - loss: 1.1787 - acc: 0.7143 - val_loss: 1.2146 - val_acc: 0.7246\n",
      "Epoch 3/20\n",
      "18/18 [==============================] - 20s 1s/step - loss: 0.8855 - acc: 0.7682 - val_loss: 1.1362 - val_acc: 0.7363\n",
      "Epoch 4/20\n",
      "18/18 [==============================] - 20s 1s/step - loss: 0.8289 - acc: 0.7760 - val_loss: 1.0978 - val_acc: 0.7266\n",
      "Epoch 5/20\n",
      "18/18 [==============================] - 20s 1s/step - loss: 0.7732 - acc: 0.7795 - val_loss: 1.0506 - val_acc: 0.7305\n",
      "Epoch 6/20\n",
      "18/18 [==============================] - 22s 1s/step - loss: 0.6662 - acc: 0.8116 - val_loss: 0.9744 - val_acc: 0.7363\n",
      "Epoch 7/20\n",
      "18/18 [==============================] - 26s 1s/step - loss: 0.6778 - acc: 0.8073 - val_loss: 0.9240 - val_acc: 0.7480\n",
      "Epoch 8/20\n",
      "18/18 [==============================] - 25s 1s/step - loss: 0.6851 - acc: 0.8021 - val_loss: 0.9373 - val_acc: 0.7383\n",
      "Epoch 9/20\n",
      "18/18 [==============================] - 24s 1s/step - loss: 0.6615 - acc: 0.8186 - val_loss: 0.9093 - val_acc: 0.7383\n",
      "Epoch 10/20\n",
      "18/18 [==============================] - 24s 1s/step - loss: 0.6388 - acc: 0.8090 - val_loss: 0.9196 - val_acc: 0.7461\n",
      "Epoch 11/20\n",
      "18/18 [==============================] - 24s 1s/step - loss: 0.5867 - acc: 0.8368 - val_loss: 0.8878 - val_acc: 0.7539\n",
      "Epoch 12/20\n",
      "18/18 [==============================] - 24s 1s/step - loss: 0.6116 - acc: 0.8212 - val_loss: 0.8322 - val_acc: 0.7715\n",
      "Epoch 13/20\n",
      "18/18 [==============================] - 23s 1s/step - loss: 0.6310 - acc: 0.8247 - val_loss: 0.7872 - val_acc: 0.7773\n",
      "Epoch 14/20\n",
      "18/18 [==============================] - 24s 1s/step - loss: 0.5494 - acc: 0.8333 - val_loss: 0.7523 - val_acc: 0.7910\n",
      "Epoch 15/20\n",
      "18/18 [==============================] - 23s 1s/step - loss: 0.5935 - acc: 0.8247 - val_loss: 0.7311 - val_acc: 0.7988\n",
      "Epoch 16/20\n",
      "18/18 [==============================] - 23s 1s/step - loss: 0.5727 - acc: 0.8403 - val_loss: 0.7281 - val_acc: 0.7969\n",
      "Epoch 17/20\n",
      "18/18 [==============================] - 24s 1s/step - loss: 0.5942 - acc: 0.8229 - val_loss: 0.6989 - val_acc: 0.8027\n",
      "Epoch 18/20\n",
      "18/18 [==============================] - 24s 1s/step - loss: 0.5878 - acc: 0.8273 - val_loss: 0.6593 - val_acc: 0.7988\n",
      "Epoch 19/20\n",
      "18/18 [==============================] - 24s 1s/step - loss: 0.5494 - acc: 0.8333 - val_loss: 0.6923 - val_acc: 0.7910\n",
      "Epoch 20/20\n",
      "18/18 [==============================] - 24s 1s/step - loss: 0.5152 - acc: 0.8377 - val_loss: 0.7152 - val_acc: 0.7793\n"
     ]
    }
   ],
   "source": [
    "\n",
    "model_b1.compile(loss='categorical_crossentropy',\n",
    "              optimizer=tf.keras.optimizers.Adam(),\n",
    "              metrics=['acc'])\n",
    "hist_b1=model_b1.fit(\n",
    "    train_generator,\n",
    "    steps_per_epoch=math.ceil(18),\n",
    "    epochs=20,\n",
    "    validation_data=validation_generator,\n",
    "    validation_steps=math.ceil(float(VALIDATION_SAMPLES) / BATCH_SIZE))"
   ]
  },
  {
   "cell_type": "code",
   "execution_count": 13,
   "metadata": {},
   "outputs": [
    {
     "name": "stderr",
     "output_type": "stream",
     "text": [
      "C:\\Users\\shzso\\anaconda3\\envs\\tf_gpu\\lib\\site-packages\\keras\\engine\\functional.py:1410: CustomMaskWarning: Custom mask layers require a config and must override get_config. When loading, the custom mask layer must be passed to the custom_objects argument.\n",
      "  layer_config = serialize_layer_fn(layer)\n"
     ]
    }
   ],
   "source": [
    "hist_df_B1 = pd.DataFrame(hist_b1.history) \n",
    "model_b1.save('model_EfficientNetB1.h5')"
   ]
  },
  {
   "cell_type": "code",
   "execution_count": 17,
   "metadata": {},
   "outputs": [],
   "source": [
    "\n",
    "model_b5= tf.keras.models.load_model(\"model_EfficientNetB5.h5\")\n",
    "model_b3 = tf.keras.models.load_model(\"model_EfficientNetB3.h5\")"
   ]
  },
  {
   "cell_type": "code",
   "execution_count": 18,
   "metadata": {},
   "outputs": [],
   "source": [
    "def predict_image(img_path, model):\n",
    "    img = tf.io.read_file(img_path)\n",
    "    img = tf.image.decode_jpeg(img)\n",
    "    img = tf.image.resize(img, [224,224])\n",
    "    img=preprocess_input(img)\n",
    "    img= tf.cast(tf.expand_dims(img, axis=0), tf.int16)\n",
    "    #  \n",
    "\n",
    "\n",
    "    prediction=model.predict(img)\n",
    "\n",
    "\n",
    "\n",
    "    pred_class=class_names[tf.argmax(prediction[0])]\n",
    "    pred_prob=(tf.reduce_max(prediction)*100).numpy()\n",
    "    return pred_class,pred_prob"
   ]
  },
  {
   "cell_type": "code",
   "execution_count": 19,
   "metadata": {},
   "outputs": [
    {
     "data": {
      "text/plain": [
       "('Helicopter', 99.954865)"
      ]
     },
     "execution_count": 19,
     "metadata": {},
     "output_type": "execute_result"
    }
   ],
   "source": [
    "img_path = \"D:\\Downloads\\photo-1558981403-c5f9899a28bc.jpg\" #bike\n",
    "img_path = \"D:\\Downloads/60825.jpg\" #helicopter\n",
    "\n",
    "predict_image(img_path=img_path,model=model_b3)"
   ]
  },
  {
   "cell_type": "code",
   "execution_count": 20,
   "metadata": {},
   "outputs": [
    {
     "data": {
      "text/plain": [
       "('Helicopter', 99.25512)"
      ]
     },
     "execution_count": 20,
     "metadata": {},
     "output_type": "execute_result"
    }
   ],
   "source": [
    "predict_image(img_path=img_path,model=model_b5)"
   ]
  },
  {
   "cell_type": "code",
   "execution_count": 65,
   "metadata": {},
   "outputs": [
    {
     "data": {
      "image/png": "[encoded data removed]",
      "text/plain": [
       "<Figure size 1296x1080 with 2 Axes>"
      ]
     },
     "metadata": {
      "needs_background": "light"
     },
     "output_type": "display_data"
    }
   ],
   "source": [
    "fig, (ax1, ax2) = plt.subplots(2, 1,figsize=(18,15))\n",
    "\n",
    "ax1.plot(hist_df_B3.index,hist_df_B3['acc'],label='EfficientNet-B3',color='darkred')\n",
    "ax1.plot(hist_df_B3.index,hist_df_B5['acc'],label='EfficientNet-B5',color='darkblue')\n",
    "ax1.plot(hist_df_B3.index,hist_df_B1['acc'],label='EfficientNet-B1',color='darkgreen')\n",
    "ax1.plot(hist_df_B3.index,hist_df_B0['acc'],label='EfficientNet-B0',color='darkorange')\n",
    "ax1.legend()\n",
    "ax1.title.set_text('Training Accuracy (B3 v B5)')\n",
    "\n",
    "ax2.plot(hist_df_B3.index,hist_df_B3['val_acc'],label='EfficientNet-B3',color='darkred')\n",
    "ax2.plot(hist_df_B3.index,hist_df_B5['val_acc'],label='EfficientNet-B5',color='darkblue')\n",
    "ax2.plot(hist_df_B3.index,hist_df_B1['val_acc'],label='EfficientNet-B1',color='darkgreen')\n",
    "ax2.plot(hist_df_B3.index,hist_df_B0['val_acc'],label='EfficientNet-B0',color='darkorange')\n",
    "ax2.legend()\n",
    "ax2.title.set_text('Validation Accuracy (B3 v B5)')"
   ]
  },
  {
   "cell_type": "code",
   "execution_count": null,
   "metadata": {},
   "outputs": [],
   "source": [
    "### Best classified images v Worst classified images\n"
   ]
  }
 ],
 "metadata": {
  "interpreter": {
   "hash": "3ce94f09205e5177e121f09cd120bc377f4c139dc7d85c3df6c5c29ddd26d191"
  },
  "kernelspec": {
   "display_name": "Python 3.9.7 ('tf')",
   "language": "python",
   "name": "python3"
  },
  "language_info": {
   "codemirror_mode": {
    "name": "ipython",
    "version": 3
   },
   "file_extension": ".py",
   "mimetype": "text/x-python",
   "name": "python",
   "nbconvert_exporter": "python",
   "pygments_lexer": "ipython3",
   "version": "3.9.11"
  },
  "orig_nbformat": 4
 },
 "nbformat": 4,
 "nbformat_minor": 2
}
